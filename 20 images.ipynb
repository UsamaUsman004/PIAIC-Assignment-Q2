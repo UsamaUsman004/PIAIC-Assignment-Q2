{
 "cells": [
  {
   "cell_type": "markdown",
   "metadata": {},
   "source": [
    "# IMAGE RESIZER NUMPY"
   ]
  },
  {
   "cell_type": "code",
   "execution_count": 2,
   "metadata": {},
   "outputs": [],
   "source": [
    "from PIL import Image\n",
    "import os\n",
    "import matplotlib.pylab as plt\n",
    "import numpy as np\n",
    "\n",
    "rootDir = '.'\n",
    "imagelist=[]\n",
    "for dirName,subDirList,fileList in os.walk(rootDir):\n",
    "    print('found directory %s'%s %dirName)\n",
    "    imageList=imageList+fileList\n",
    "counter=1\n",
    "\n",
    "for i in imageList:\n",
    "    if i.endswith('.jpg') or i.endswith('.jpeg'):\n",
    "        im=plt.imread(i)\n",
    "        image= Image.open(i)\n",
    "        newImage=image.resize((300,300))\n",
    "        newimage.save('new{}.jpg'.format(counter))\n",
    "        counter+=1"
   ]
  }
 ],
 "metadata": {
  "kernelspec": {
   "display_name": "Python 3",
   "language": "python",
   "name": "python3"
  },
  "language_info": {
   "codemirror_mode": {
    "name": "ipython",
    "version": 3
   },
   "file_extension": ".py",
   "mimetype": "text/x-python",
   "name": "python",
   "nbconvert_exporter": "python",
   "pygments_lexer": "ipython3",
   "version": "3.7.3"
  }
 },
 "nbformat": 4,
 "nbformat_minor": 2
}
